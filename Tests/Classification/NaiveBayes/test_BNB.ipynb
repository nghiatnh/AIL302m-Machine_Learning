{
 "cells": [
  {
   "cell_type": "code",
   "execution_count": 1,
   "metadata": {},
   "outputs": [],
   "source": [
    "import numpy as np"
   ]
  },
  {
   "cell_type": "code",
   "execution_count": 2,
   "metadata": {},
   "outputs": [
    {
     "name": "stdout",
     "output_type": "stream",
     "text": [
      "(4000, 9000)\n"
     ]
    }
   ],
   "source": [
    "# train data\n",
    "D = 1000\n",
    "d1 = [1, 1, 1, 0, 0, 0, 0, 0, 0] * D\n",
    "d2 = [1, 1, 0, 1, 1, 0, 0, 0, 0] * D\n",
    "d3 = [0, 1, 0, 0, 1, 1, 0, 0, 0] * D\n",
    "d4 = [0, 1, 0, 0, 0, 0, 1, 1, 1] * D\n",
    "\n",
    "train_data = np.array([d1, d2, d3, d4] * D)\n",
    "print(train_data.shape)\n",
    "label = np.array(['B', 'B', 'C', 'N'] * D)\n",
    "\n",
    "# test data\n",
    "d5 = np.array([[1, 0, 0, 1, 0, 0, 0, 1, 0] * D])\n",
    "d6 = np.array([[0, 1, 0, 0, 0, 0, 0, 1, 1] * D])\n"
   ]
  },
  {
   "cell_type": "code",
   "execution_count": 3,
   "metadata": {},
   "outputs": [],
   "source": [
    "import numpy as np\n",
    "from typing import *\n",
    "import matplotlib.pyplot as plt\n",
    "import sys\n",
    "# caution: path[0] is reserved for script path (or '' in REPL)\n",
    "sys.path.insert(1, '/home/nghiatnh/Study/Sem5/AIL302m/Projects/AIL302m-Machine_Learning/')\n",
    "from Modules.classification.naive_bayes import BernoulliNB"
   ]
  },
  {
   "cell_type": "code",
   "execution_count": 4,
   "metadata": {},
   "outputs": [
    {
     "name": "stdout",
     "output_type": "stream",
     "text": [
      "['B' 'B' 'C' ... 'B' 'C' 'N']\n",
      "[[1.00000000e+000 1.03221875e-095 1.84223712e-099]\n",
      " [1.00000000e+000 4.94643770e-092 4.95473300e-147]\n",
      " [9.36877984e-059 1.00000000e+000 1.77252038e-104]\n",
      " ...\n",
      " [1.00000000e+000 4.94643770e-092 4.95473300e-147]\n",
      " [9.36877984e-059 1.00000000e+000 1.77252038e-104]\n",
      " [1.94402331e-157 9.87172802e-146 1.00000000e+000]]\n"
     ]
    },
    {
     "data": {
      "text/plain": [
       "1.0"
      ]
     },
     "execution_count": 4,
     "metadata": {},
     "output_type": "execute_result"
    }
   ],
   "source": [
    "MNB = BernoulliNB()\n",
    "MNB.fit(train_data, label)\n",
    "print(MNB.predict(train_data))\n",
    "print(MNB.predict_proba(train_data))\n",
    "MNB.score(train_data, label)"
   ]
  },
  {
   "cell_type": "code",
   "execution_count": 5,
   "metadata": {},
   "outputs": [],
   "source": [
    "from __future__ import print_function\n",
    "from sklearn.naive_bayes import BernoulliNB\n",
    "import numpy as np "
   ]
  },
  {
   "cell_type": "code",
   "execution_count": 6,
   "metadata": {},
   "outputs": [
    {
     "name": "stdout",
     "output_type": "stream",
     "text": [
      "Predicting class of d5: ['B' 'B' 'C' ... 'B' 'C' 'N']\n",
      "Probability of d6 in each class: [[1. 0. 0.]\n",
      " [1. 0. 0.]\n",
      " [0. 1. 0.]\n",
      " ...\n",
      " [1. 0. 0.]\n",
      " [0. 1. 0.]\n",
      " [0. 0. 1.]]\n"
     ]
    }
   ],
   "source": [
    "## call MultinomialNB\n",
    "clf = BernoulliNB()\n",
    "# training \n",
    "clf.fit(train_data, label)\n",
    "\n",
    "# test\n",
    "print('Predicting class of d5:', str(clf.predict(train_data)))\n",
    "print('Probability of d6 in each class:', clf.predict_proba(train_data))"
   ]
  }
 ],
 "metadata": {
  "kernelspec": {
   "display_name": "Python 3.8.8 ('base')",
   "language": "python",
   "name": "python3"
  },
  "language_info": {
   "codemirror_mode": {
    "name": "ipython",
    "version": 3
   },
   "file_extension": ".py",
   "mimetype": "text/x-python",
   "name": "python",
   "nbconvert_exporter": "python",
   "pygments_lexer": "ipython3",
   "version": "3.8.8"
  },
  "orig_nbformat": 4,
  "vscode": {
   "interpreter": {
    "hash": "f0cbc8d39e2c910eff8684fa9a53892924e930afdeb920b71e62694c678fa8d0"
   }
  }
 },
 "nbformat": 4,
 "nbformat_minor": 2
}
