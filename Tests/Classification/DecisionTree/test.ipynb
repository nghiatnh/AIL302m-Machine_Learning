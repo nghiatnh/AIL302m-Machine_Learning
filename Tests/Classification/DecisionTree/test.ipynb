{
 "cells": [
  {
   "cell_type": "code",
   "execution_count": 1,
   "metadata": {},
   "outputs": [],
   "source": [
    "import numpy as np\n",
    "import pandas as pd\n",
    "import sys\n",
    "# caution: path[0] is reserved for script path (or '' in REPL)\n",
    "sys.path.insert(1, '/home/nghiatnh/Study/Sem5/AIL302m/Projects/AIL302m-Machine_Learning/')\n",
    "from Modules.classification.decision_tree import DecisionTreeClassifier"
   ]
  },
  {
   "cell_type": "code",
   "execution_count": 2,
   "metadata": {},
   "outputs": [
    {
     "name": "stdout",
     "output_type": "stream",
     "text": [
      "Predict: ['no' 'no' 'yes' 'yes' 'yes' 'no' 'yes' 'no' 'yes' 'yes' 'yes' 'yes' 'yes'\n",
      " 'no']\n",
      "Ground truth: ['no' 'no' 'yes' 'yes' 'yes' 'no' 'yes' 'no' 'yes' 'yes' 'yes' 'yes' 'yes'\n",
      " 'no']\n",
      "Score: 1.0\n"
     ]
    }
   ],
   "source": [
    "\n",
    "df = pd.read_csv(sys.path[1] + \"/Tests/Data/DecisionTree/weather.csv\", index_col = 0, parse_dates = True)\n",
    "X = np.array(df.iloc[:, :-1])\n",
    "y = np.array(df.iloc[:, -1])\n",
    "clf = DecisionTreeClassifier(max_depth = 10, min_samples_split = 2, attributes_name=list(df.columns), attribute_type='continuous')\n",
    "clf.fit(X, y)\n",
    "print(\"Predict: {}\".format(clf.predict(X)))\n",
    "print(\"Ground truth: {}\".format(y))\n",
    "print(\"Score: {}\".format(clf.score(X, y)))"
   ]
  },
  {
   "cell_type": "code",
   "execution_count": 3,
   "metadata": {},
   "outputs": [
    {
     "name": "stdout",
     "output_type": "stream",
     "text": [
      "----DECISION TREE----\n",
      "\n",
      "|depth: 0\n",
      "|ids: [0, 1, 2, 3, 4, 5, 6, 7, 8, 9, 10, 11, 12, 13]\n",
      "|entropy: 0.6517565611726531\n",
      "|split attribute: outlook\n",
      "|node rule: None\n",
      "|label: None\n",
      "----\n",
      "    |depth: 1\n",
      "    |ids: [2, 6, 11, 12]\n",
      "    |entropy: -0.0\n",
      "    |split attribute: None\n",
      "    |node rule: outlook == overcast\n",
      "    |label: yes\n",
      "----\n",
      "    |depth: 1\n",
      "    |ids: [3, 4, 5, 9, 13]\n",
      "    |entropy: 0.6730116670092565\n",
      "    |split attribute: wind\n",
      "    |node rule: outlook == rainy\n",
      "    |label: None\n",
      "--------\n",
      "        |depth: 2\n",
      "        |ids: [5, 13]\n",
      "        |entropy: -0.0\n",
      "        |split attribute: None\n",
      "        |node rule: wind == strong\n",
      "        |label: no\n",
      "--------\n",
      "        |depth: 2\n",
      "        |ids: [3, 4, 9]\n",
      "        |entropy: -0.0\n",
      "        |split attribute: None\n",
      "        |node rule: wind == weak\n",
      "        |label: yes\n",
      "----\n",
      "    |depth: 1\n",
      "    |ids: [0, 1, 7, 8, 10]\n",
      "    |entropy: 0.6730116670092565\n",
      "    |split attribute: humidity\n",
      "    |node rule: outlook == sunny\n",
      "    |label: None\n",
      "--------\n",
      "        |depth: 2\n",
      "        |ids: [0, 1, 7]\n",
      "        |entropy: -0.0\n",
      "        |split attribute: None\n",
      "        |node rule: humidity == high\n",
      "        |label: no\n",
      "--------\n",
      "        |depth: 2\n",
      "        |ids: [8, 10]\n",
      "        |entropy: -0.0\n",
      "        |split attribute: None\n",
      "        |node rule: humidity == normal\n",
      "        |label: yes\n"
     ]
    }
   ],
   "source": [
    "clf.print_tree()"
   ]
  }
 ],
 "metadata": {
  "kernelspec": {
   "display_name": "Python 3.10.6 ('aip_env')",
   "language": "python",
   "name": "python3"
  },
  "language_info": {
   "codemirror_mode": {
    "name": "ipython",
    "version": 3
   },
   "file_extension": ".py",
   "mimetype": "text/x-python",
   "name": "python",
   "nbconvert_exporter": "python",
   "pygments_lexer": "ipython3",
   "version": "3.10.6"
  },
  "orig_nbformat": 4,
  "vscode": {
   "interpreter": {
    "hash": "361199c7a79bbfb67e1469ff3419fb910d3256e92fbe4b600c4e584bc16f31cb"
   }
  }
 },
 "nbformat": 4,
 "nbformat_minor": 2
}
